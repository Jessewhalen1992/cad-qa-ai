{
 "cells": [
  {
   "cell_type": "markdown",
   "metadata": {},
   "source": [
    "# Layer Classifier Training\n",
    "\n",
    "Run this notebook from the project root (`CAD AI`) to build a fitted `layer_clf.pkl`.\n"
   ]
  },
  {
   "cell_type": "code",
   "execution_count": null,
   "metadata": {},
   "outputs": [],
   "source": [
    "import pathlib, pandas as pd, joblib\n",
    "from sklearn.feature_extraction.text import TfidfVectorizer\n",
    "from sklearn.linear_model import LogisticRegression\n",
    "from sklearn.pipeline import Pipeline\n",
    "from sklearn.model_selection import train_test_split\n",
    "from sklearn.metrics import classification_report\n",
    "\n",
    "# Use the notebook’s working directory to locate your repo\n",
    "repo_root = pathlib.Path().resolve()\n",
    "data_path = repo_root / \"ml\" / \"datasets\" / \"labeled.csv\"\n",
    "assert data_path.exists(), f\"{data_path} not found\"\n",
    "\n",
    "df = pd.read_csv(data_path, on_bad_lines=\"skip\").dropna(subset=[\"Content\", \"Layer\"])\n",
    "\n",
    "# Pipeline with TF–IDF and a Logistic Regression classifier\n",
    "pipe = Pipeline([\n",
    "    (\"tfidf\", TfidfVectorizer(token_pattern=r\"[A-Za-z0-9\\\\.]+\")),\n",
    "    (\"clf\", LogisticRegression(max_iter=1000, multi_class=\"auto\"))\n",
    "])\n"
   ]
  },
  {
   "cell_type": "code",
   "execution_count": null,
   "metadata": {},
   "outputs": [],
   "source": [
    "# Train/test split and fit\n",
    "X_train, X_test, y_train, y_test = train_test_split(\n",
    "    df['Content'], df['Layer'], test_size=0.2, random_state=42\n",
    ")\n",
    "\n",
    "pipe.fit(X_train, y_train)\n",
    "print(classification_report(y_test, pipe.predict(X_test)))"
   ]
  },
  {
   "cell_type": "code",
   "execution_count": null,
   "metadata": {},
   "outputs": [],
   "source": [
    "out_path = repo_root / \"ml\" / \"artifacts\" / \"layer_clf.pkl\"\n",
    "assert hasattr(pipe.named_steps[\"tfidf\"], \"vocabulary_\")  # make sure fitted\n",
    "out_path.parent.mkdir(parents=True, exist_ok=True)  # ensure the directory exists\n",
    "joblib.dump(pipe, out_path)\n",
    "print(\"✓ Model saved to\", out_path)"
   ]
  }
 ],
 "metadata": {
  "kernelspec": {
   "display_name": "Python 3",
   "language": "python",
   "name": "python3"
  },
  "language_info": {
   "name": "python",
   "version": "3.10"
  }
 },
 "nbformat": 4,
 "nbformat_minor": 5
}
