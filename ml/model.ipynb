{
 "cells": [
  {
   "cell_type": "code",
   "execution_count": 1,
   "id": "5a7d1519",
   "metadata": {
    "execution": {
     "iopub.execute_input": "2025-07-30T18:24:55.472921Z",
     "iopub.status.busy": "2025-07-30T18:24:55.472752Z",
     "iopub.status.idle": "2025-07-30T18:24:55.476696Z",
     "shell.execute_reply": "2025-07-30T18:24:55.475880Z"
    }
   },
   "outputs": [],
   "source": [
    "import os\n",
    "os.chdir(\"C:/Users/Jesse 2025/Desktop/CAD AI\")"
   ]
  },
  {
   "cell_type": "code",
   "execution_count": 2,
   "id": "cb4d6e06",
   "metadata": {
    "execution": {
     "iopub.execute_input": "2025-07-30T18:24:55.479020Z",
     "iopub.status.busy": "2025-07-30T18:24:55.478834Z",
     "iopub.status.idle": "2025-07-30T18:24:55.482186Z",
     "shell.execute_reply": "2025-07-30T18:24:55.481778Z"
    }
   },
   "outputs": [
    {
     "name": "stdout",
     "output_type": "stream",
     "text": [
      "[]\n"
     ]
    }
   ],
   "source": [
    "import glob\n",
    "print(glob.glob(\"ml/data/raw/*.features.csv\"))\n"
   ]
  },
  {
   "cell_type": "markdown",
   "id": "21559f88",
   "metadata": {},
   "source": [
    "# Layer Classification Model\n",
    "This notebook loads feature CSVs generated from CAD drawings, trains a simple classifier to predict the appropriate layer for text entities based on their properties, and saves the trained model."
   ]
  },
  {
   "cell_type": "code",
   "execution_count": 3,
   "id": "c99cabbf",
   "metadata": {
    "execution": {
     "iopub.execute_input": "2025-07-30T18:24:55.484039Z",
     "iopub.status.busy": "2025-07-30T18:24:55.483811Z",
     "iopub.status.idle": "2025-07-30T18:24:55.827067Z",
     "shell.execute_reply": "2025-07-30T18:24:55.826549Z"
    }
   },
   "outputs": [
    {
     "name": "stdout",
     "output_type": "stream",
     "text": [
      "Rows used: 35399\n"
     ]
    }
   ],
   "source": [
    "import pandas as pd\n",
    "\n",
    "# Load the already merged and labelled dataset\n",
    "features = pd.read_csv(\"ml/datasets/labeled.csv\")\n",
    "\n",
    "# Remove rows where either Content or Layer is missing\n",
    "features = features.dropna(subset=[\"Content\", \"Layer\"])\n",
    "\n",
    "print(\"Rows used:\", len(features))\n"
   ]
  },
  {
   "cell_type": "code",
   "execution_count": 4,
   "id": "82c42f11",
   "metadata": {
    "execution": {
     "iopub.execute_input": "2025-07-30T18:24:55.829165Z",
     "iopub.status.busy": "2025-07-30T18:24:55.828855Z",
     "iopub.status.idle": "2025-07-30T18:25:10.142806Z",
     "shell.execute_reply": "2025-07-30T18:25:10.141747Z"
    }
   },
   "outputs": [
    {
     "name": "stdout",
     "output_type": "stream",
     "text": [
      "                             precision    recall  f1-score   support\n",
      "\n",
      "                          0       0.66      0.66      0.66       208\n",
      "                         10       0.00      0.00      0.00         1\n",
      "                         33       0.00      0.00      0.00         4\n",
      "                         35       0.71      0.67      0.69        30\n",
      "            ABADATA-DRILL-T       0.78      0.59      0.67       105\n",
      "                   AS-CABLE       0.62      0.62      0.62         8\n",
      "                 AS-DRILL-T       0.63      0.79      0.70        85\n",
      "                   AS-FMA-T       0.00      0.00      0.00         1\n",
      "                 AS-GENERAL       1.00      0.05      0.09        21\n",
      "                   AS-OWNER       0.36      0.14      0.20        29\n",
      "               AS-PIPE-AG-T       0.00      0.00      0.00         2\n",
      "               AS-PIPE-RACK       0.00      0.00      0.00         1\n",
      "                 AS-PIPE-UG       0.00      0.00      0.00         3\n",
      "               AS-PIPE-UG-T       0.81      1.00      0.89        21\n",
      "                   AS-POWER       0.37      0.92      0.52        25\n",
      "          AS-POWER-EXISTING       0.62      1.00      0.77        48\n",
      "      AS-POWER-EXISTING-ANC       0.14      0.07      0.10        14\n",
      "       AS-POWER-EXISTING-PP       0.00      0.00      0.00        29\n",
      "        AS-POWER-EXISTING-T       1.00      1.00      1.00         3\n",
      "                 AS-POWER-T       1.00      0.03      0.06        32\n",
      "               AS-RESIDENCE       1.00      0.96      0.98        48\n",
      "                 AS-SEISMIC       1.00      0.83      0.91         6\n",
      "               AS-STRUCTURE       0.00      0.00      0.00         1\n",
      "             AS-STRUCTURE-T       0.73      0.96      0.83        23\n",
      "                  AS-SYMBOL       0.95      0.93      0.94       201\n",
      "              AS-TARGET-GAS       0.96      1.00      0.98        27\n",
      "              AS-TARGET-OIL       1.00      1.00      1.00        14\n",
      "             AS-TELEPHONE-T       0.00      0.00      0.00         6\n",
      "                   AS-TELUS       0.80      1.00      0.89        16\n",
      "               AS-TRAPPER-T       1.00      1.00      1.00        10\n",
      "                AS-WILDLIFE       0.90      1.00      0.95        26\n",
      "          AS-WILDLIFE-BLOCK       0.33      0.25      0.29         4\n",
      "                 AUX-BUFFER       0.90      1.00      0.95         9\n",
      "                 AUX-LABELS       0.00      0.00      0.00         1\n",
      "                       C-AR       0.00      0.00      0.00         3\n",
      "                     C-AR-T       0.80      0.80      0.80       205\n",
      "                 C-FLOWLINE       0.00      0.00      0.00         2\n",
      "               C-FLOWLINE-T       0.75      0.84      0.79        49\n",
      "                       C-RW       0.00      0.00      0.00         1\n",
      "                     C-RW-T       0.87      0.86      0.87       331\n",
      "                   C-SYMBOL       0.99      0.92      0.95       115\n",
      "                  C-SYMBOL2       0.00      0.00      0.00         1\n",
      "                    C-VCE-T       0.00      0.00      0.00         1\n",
      "                       C-WS       0.00      0.00      0.00         3\n",
      "                     C-WS-S       0.63      0.96      0.76       208\n",
      "                     C-WS-T       0.83      0.75      0.79       208\n",
      "                   CG-NORTH       0.00      0.00      0.00         2\n",
      "                   CG-NOTES       0.53      0.45      0.49        88\n",
      "                  CG-NOTES2       0.00      0.00      0.00         1\n",
      "                  CG-NOTES3       0.00      0.00      0.00         1\n",
      "              CG-SIGNATURES       0.00      0.00      0.00         2\n",
      "                      D-TXT       0.97      1.00      0.98        83\n",
      "         DETAIL-HZ-Existing       0.75      0.56      0.64        27\n",
      "                   DETAIL-T       0.69      0.76      0.72       147\n",
      "                 DISCLAIMER       0.00      0.00      0.00         5\n",
      "                    DRILL-T       0.89      0.15      0.26        52\n",
      "EXISTING PIPE (EXIST OR HP)       0.00      0.00      0.00         1\n",
      "                     F-AR-T       0.80      0.60      0.68       107\n",
      "                    F-EZE-T       0.90      0.81      0.86        80\n",
      "               F-FLOWLINE-T       0.00      0.00      0.00         2\n",
      "                       F-RW       0.00      0.00      0.00         3\n",
      "                     F-RW-T       0.82      0.90      0.86       332\n",
      "                    F-VCE-T       0.00      0.00      0.00         1\n",
      "                       F-WS       0.00      0.00      0.00         2\n",
      "                     F-WS-S       0.58      0.38      0.46       176\n",
      "                     F-WS-T       0.69      0.72      0.70        88\n",
      "              FEATURE_LABEL       0.87      0.87      0.87        23\n",
      "                       L-33       1.00      1.00      1.00         6\n",
      "             L-AREAREQUIRED       0.85      0.95      0.90        37\n",
      "                 L-AREAWORK       0.00      0.00      0.00         5\n",
      "                       L-BD       0.67      0.82      0.74       607\n",
      "                      L-BD1       0.62      0.17      0.27       189\n",
      "                 L-DETAIL-T       1.00      0.50      0.67        16\n",
      "                      L-MON       0.95      0.97      0.96      1188\n",
      "                 L-MON-PLAN       0.00      0.00      0.00         1\n",
      "                    L-MON-T       0.80      0.08      0.14        53\n",
      "                     L-QSEC       0.67      1.00      0.80         8\n",
      "                   L-ROAD-T       0.99      0.98      0.99       128\n",
      "                      L-SEC       0.00      0.00      0.00         2\n",
      "                   L-SEC-HB       0.00      0.00      0.00         1\n",
      "                   L-SECLBL       1.00      1.00      1.00       128\n",
      "                     L-SECQ       0.00      0.00      0.00         3\n",
      "              L-SECTION-LSD       0.57      1.00      0.72       289\n",
      "                      L-TIE       0.75      0.75      0.75         4\n",
      "                    L-TIE-T       0.00      0.00      0.00        10\n",
      "                  L-TITLEDB       0.00      0.00      0.00         7\n",
      "                L-TITLEDB-T       0.84      0.94      0.88        49\n",
      "                    L-UNS-T       0.88      1.00      0.94        80\n",
      "                     L-USEC       0.00      0.00      0.00         4\n",
      "    P-100m WELL BORE BUFFER       0.00      0.00      0.00         5\n",
      "        P-75m DRAINAGE AREA       0.00      0.00      0.00         1\n",
      "          P-BUFFER-PURPLE-H       0.00      0.00      0.00         1\n",
      "          P-BUFFER-PURPLE-T       0.00      0.00      0.00         3\n",
      "                 P-BUFFER-T       0.83      0.83      0.83         6\n",
      "               P-CHAINAGE-T       0.00      0.00      0.00         8\n",
      "                P-CROSSINGS       0.97      0.97      0.97       120\n",
      "              P-CROSSINGS_2       0.00      0.00      0.00         2\n",
      "                P-ELEVATION       0.64      0.70      0.67        23\n",
      "             P-FNC BUFFER-T       0.00      0.00      0.00         1\n",
      "               P-PDRILLPATH       0.00      0.00      0.00         2\n",
      "                  P-STATION       0.00      0.00      0.00         7\n",
      "              P-TEMP-BLOCKS       0.48      0.43      0.45        70\n",
      "                   P-TEMP-T       0.83      0.91      0.87        11\n",
      "                  P-TEMP-T5       0.00      0.00      0.00         1\n",
      "           P-TEMP_WORKSPACE       0.00      0.00      0.00         2\n",
      "         P-TEMP_WORKSPACE-2       0.00      0.00      0.00         1\n",
      "                      P-TXT       0.76      0.71      0.74        63\n",
      "                     T-BUSH       0.67      0.29      0.40        14\n",
      "                   T-BUSH-T       0.94      0.99      0.96       148\n",
      "             T-EXISTING RTF       1.00      0.50      0.67         2\n",
      "           T-EXISTING RTF-T       0.40      0.67      0.50         3\n",
      "           T-EXISTING TFA-T       0.00      0.00      0.00         2\n",
      "                  T-GENERAL       1.00      0.50      0.67         4\n",
      "                    T-SLOPE       0.00      0.00      0.00         4\n",
      "                     T-TEXT       0.89      0.86      0.88       227\n",
      "                    T-TIE-T       1.00      0.14      0.25        14\n",
      "                    T-WATER       0.00      0.00      0.00         3\n",
      "                  T-WATER-T       0.90      0.91      0.90        78\n",
      "                    WETLAND       0.00      0.00      0.00         4\n",
      "                  WETLAND-T       0.90      0.86      0.88        22\n",
      "                   licensee       0.00      0.00      0.00         1\n",
      "\n",
      "                   accuracy                           0.79      7080\n",
      "                  macro avg       0.46      0.42      0.42      7080\n",
      "               weighted avg       0.79      0.79      0.77      7080\n",
      "\n"
     ]
    },
    {
     "name": "stderr",
     "output_type": "stream",
     "text": [
      "C:\\Users\\Jesse 2025\\AppData\\Local\\Programs\\Python\\Python313\\Lib\\site-packages\\sklearn\\metrics\\_classification.py:1731: UndefinedMetricWarning: Precision is ill-defined and being set to 0.0 in labels with no predicted samples. Use `zero_division` parameter to control this behavior.\n",
      "  _warn_prf(average, modifier, f\"{metric.capitalize()} is\", result.shape[0])\n",
      "C:\\Users\\Jesse 2025\\AppData\\Local\\Programs\\Python\\Python313\\Lib\\site-packages\\sklearn\\metrics\\_classification.py:1731: UndefinedMetricWarning: Precision is ill-defined and being set to 0.0 in labels with no predicted samples. Use `zero_division` parameter to control this behavior.\n",
      "  _warn_prf(average, modifier, f\"{metric.capitalize()} is\", result.shape[0])\n",
      "C:\\Users\\Jesse 2025\\AppData\\Local\\Programs\\Python\\Python313\\Lib\\site-packages\\sklearn\\metrics\\_classification.py:1731: UndefinedMetricWarning: Precision is ill-defined and being set to 0.0 in labels with no predicted samples. Use `zero_division` parameter to control this behavior.\n",
      "  _warn_prf(average, modifier, f\"{metric.capitalize()} is\", result.shape[0])\n"
     ]
    }
   ],
   "source": [
    "# Example preprocessing: use simple heuristics for demo\n",
    "# Here we will treat 'TextString' as the only feature and the target is 'Layer'\n",
    "from sklearn.model_selection import train_test_split\n",
    "from sklearn.feature_extraction.text import TfidfVectorizer\n",
    "from sklearn.pipeline import Pipeline\n",
    "from sklearn.linear_model import LogisticRegression\n",
    "from sklearn.metrics import classification_report\n",
    "\n",
    "X = features['Content']\n",
    "y = features['Layer']\n",
    "\n",
    "model = Pipeline([\n",
    "    ('tfidf', TfidfVectorizer()),\n",
    "    ('clf', LogisticRegression(max_iter=1000))\n",
    "])\n",
    "\n",
    "X_train, X_test, y_train, y_test = train_test_split(X, y, test_size=0.2, random_state=42)\n",
    "model.fit(X_train, y_train)\n",
    "preds = model.predict(X_test)\n",
    "print(classification_report(y_test, preds))\n"
   ]
  },
  {
   "cell_type": "code",
   "execution_count": 5,
   "id": "ab4ad59c",
   "metadata": {
    "execution": {
     "iopub.execute_input": "2025-07-30T18:25:10.144823Z",
     "iopub.status.busy": "2025-07-30T18:25:10.144594Z",
     "iopub.status.idle": "2025-07-30T18:25:10.168760Z",
     "shell.execute_reply": "2025-07-30T18:25:10.168048Z"
    }
   },
   "outputs": [
    {
     "name": "stdout",
     "output_type": "stream",
     "text": [
      "Model saved to ml/artifacts/layer_clf.pkl\n"
     ]
    }
   ],
   "source": [
    "# Save the trained model\n",
    "import joblib\n",
    "import os\n",
    "os.makedirs('ml/artifacts', exist_ok=True)\n",
    "joblib.dump(model, 'ml/artifacts/layer_clf.pkl')\n",
    "print('Model saved to ml/artifacts/layer_clf.pkl')\n"
   ]
  },
  {
   "cell_type": "code",
   "execution_count": 6,
   "id": "9f4e101e",
   "metadata": {
    "execution": {
     "iopub.execute_input": "2025-07-30T18:25:10.171193Z",
     "iopub.status.busy": "2025-07-30T18:25:10.171002Z",
     "iopub.status.idle": "2025-07-30T18:25:10.176651Z",
     "shell.execute_reply": "2025-07-30T18:25:10.175969Z"
    }
   },
   "outputs": [
    {
     "name": "stdout",
     "output_type": "stream",
     "text": [
      "Layer\n",
      "L-MON                      6013\n",
      "L-BD                       3003\n",
      "F-RW-T                     1640\n",
      "C-RW-T                     1591\n",
      "L-SECTION-LSD              1342\n",
      "                           ... \n",
      "P-TEMP-NO CUT-T               1\n",
      "P-TEMP-H                      1\n",
      "AS-TELUS-ATCO PIPELINES       1\n",
      "39                            1\n",
      "Parcel Mapping                1\n",
      "Name: count, Length: 166, dtype: int64\n"
     ]
    }
   ],
   "source": [
    "print(features[\"Layer\"].value_counts())\n"
   ]
  },
  {
   "cell_type": "code",
   "execution_count": null,
   "id": "555c5d86-29ec-48b0-8bcc-1c616e2452b2",
   "metadata": {},
   "outputs": [],
   "source": []
  }
 ],
 "metadata": {
  "kernelspec": {
   "display_name": "Python 3 (ipykernel)",
   "language": "python",
   "name": "python3"
  },
  "language_info": {
   "codemirror_mode": {
    "name": "ipython",
    "version": 3
   },
   "file_extension": ".py",
   "mimetype": "text/x-python",
   "name": "python",
   "nbconvert_exporter": "python",
   "pygments_lexer": "ipython3",
   "version": "3.13.3"
  }
 },
 "nbformat": 4,
 "nbformat_minor": 5
}
