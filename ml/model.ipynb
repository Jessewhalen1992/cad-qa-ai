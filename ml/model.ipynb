{
 "cells": [
  {
   "cell_type": "code",
   "execution_count": 1,
   "id": "5a7d1519",
   "metadata": {},
   "outputs": [],
   "source": [
    "import os\n",
    "os.chdir(\"C:/Users/Jesse 2025/Desktop/CAD AI\")"
   ]
  },
  {
   "cell_type": "code",
   "execution_count": 2,
   "id": "cb4d6e06",
   "metadata": {},
   "outputs": [
    {
     "name": "stdout",
     "output_type": "stream",
     "text": [
      "['ml/data/raw\\\\master.features.csv']\n"
     ]
    }
   ],
   "source": [
    "import glob\n",
    "print(glob.glob(\"ml/data/raw/*.features.csv\"))\n"
   ]
  },
  {
   "cell_type": "markdown",
   "id": "21559f88",
   "metadata": {},
   "source": [
    "# Layer Classification Model\n",
    "This notebook loads feature CSVs generated from CAD drawings, trains a simple classifier to predict the appropriate layer for text entities based on their properties, and saves the trained model."
   ]
  },
  {
   "cell_type": "code",
   "execution_count": 3,
   "id": "c99cabbf",
   "metadata": {},
   "outputs": [
    {
     "name": "stdout",
     "output_type": "stream",
     "text": [
      "Rows used: 10160\n"
     ]
    }
   ],
   "source": [
    "import pandas as pd\n",
    "\n",
    "# Load the already merged and labelled dataset\n",
    "features = pd.read_csv(\"ml/datasets/labeled.csv\")\n",
    "\n",
    "# Remove rows where either Content or Layer is missing\n",
    "features = features.dropna(subset=[\"Content\", \"Layer\"])\n",
    "\n",
    "print(\"Rows used:\", len(features))\n"
   ]
  },
  {
   "cell_type": "code",
   "execution_count": 4,
   "id": "82c42f11",
   "metadata": {},
   "outputs": [
    {
     "name": "stdout",
     "output_type": "stream",
     "text": [
      "                         precision    recall  f1-score   support\n",
      "\n",
      "                      0       0.78      0.63      0.70       102\n",
      "                     35       0.50      1.00      0.67         1\n",
      "        ABADATA-DRILL-T       0.66      0.69      0.67       122\n",
      "               AS-CABLE       0.00      0.00      0.00         1\n",
      "             AS-DRILL-T       0.63      0.70      0.67        61\n",
      "               AS-FENCE       0.00      0.00      0.00         1\n",
      "             AS-GENERAL       1.00      0.20      0.33         5\n",
      "               AS-OWNER       0.75      0.67      0.71         9\n",
      "             AS-PIPE-UG       1.00      1.00      1.00         1\n",
      "           AS-PIPE-UG-T       1.00      1.00      1.00         3\n",
      "      AS-POWER-EXISTING       1.00      1.00      1.00         1\n",
      "             AS-POWER-T       0.00      0.00      0.00         3\n",
      "             AS-RAILWAY       0.00      0.00      0.00         1\n",
      "           AS-RESIDENCE       0.00      0.00      0.00         3\n",
      "             AS-SEISMIC       1.00      1.00      1.00         8\n",
      "         AS-STRUCTURE-T       0.00      0.00      0.00         2\n",
      "      AS-SURFACE IMPACT       0.00      0.00      0.00         1\n",
      "              AS-SYMBOL       0.86      0.75      0.80        16\n",
      "          AS-TARGET-GAS       0.94      1.00      0.97        29\n",
      "          AS-TARGET-OIL       1.00      1.00      1.00         5\n",
      "    AS-TRAPPER BOUNDARY       0.00      0.00      0.00         1\n",
      "            AS-WILDLIFE       1.00      0.25      0.40         4\n",
      "             AUX-BUFFER       0.86      1.00      0.92         6\n",
      "                 C-AR-T       0.85      0.65      0.73        17\n",
      "                 C-RW-T       0.86      0.88      0.87        43\n",
      "               C-SYMBOL       0.95      0.84      0.89        25\n",
      "                 C-WS-S       1.00      0.11      0.20         9\n",
      "                 C-WS-T       1.00      0.09      0.17        11\n",
      "               CG-NORTH       0.00      0.00      0.00         3\n",
      "               CG-NOTES       0.79      0.67      0.72        39\n",
      "          CG-SIGNATURES       0.00      0.00      0.00         2\n",
      "                  D-TXT       0.95      1.00      0.98        41\n",
      "            DESCRIPTION       0.00      0.00      0.00         1\n",
      "     DETAIL-HZ-Existing       0.64      0.45      0.53        20\n",
      "               DETAIL-T       0.85      0.63      0.72        35\n",
      "             DISCLAIMER       0.20      1.00      0.33         1\n",
      "                DRILL-T       0.71      0.21      0.32        48\n",
      "                 F-AR-T       1.00      0.39      0.56        44\n",
      "                F-EZE-T       1.00      0.57      0.73         7\n",
      "                   F-RW       0.00      0.00      0.00         1\n",
      "                 F-RW-T       0.77      0.96      0.85        92\n",
      "                F-VCE-T       0.00      0.00      0.00         2\n",
      "                 F-WS-S       0.54      0.83      0.65        63\n",
      "                 F-WS-T       0.71      0.71      0.71        24\n",
      "          FEATURE_LABEL       0.88      0.93      0.90        15\n",
      "                    L-2       0.00      0.00      0.00         2\n",
      "         L-AREAREQUIRED       1.00      1.00      1.00         3\n",
      "                   L-BD       0.62      0.76      0.68       123\n",
      "                  L-BD1       0.65      0.24      0.35        45\n",
      "             L-DETAIL-T       1.00      0.40      0.57        10\n",
      "                  L-MON       0.92      0.96      0.94       422\n",
      "                L-MON-T       1.00      0.07      0.13        14\n",
      "                 L-QSEC       0.50      1.00      0.67         1\n",
      "               L-ROAD-T       0.96      0.96      0.96        25\n",
      "               L-SECLBL       1.00      1.00      1.00        63\n",
      "                 L-SECQ       0.00      0.00      0.00         1\n",
      "          L-SECTION-LSD       0.46      1.00      0.63       119\n",
      "            L-TITLEDB-T       1.00      0.64      0.78        11\n",
      "                L-UNS-T       0.79      1.00      0.88        37\n",
      "P-100m WELL BORE BUFFER       0.67      1.00      0.80         2\n",
      "      P-BUFFER-PURPLE-T       0.00      0.00      0.00         2\n",
      "             P-BUFFER-T       1.00      0.80      0.89        10\n",
      "           P-CHAINAGE-T       0.00      0.00      0.00         6\n",
      "            P-CROSSINGS       0.96      1.00      0.98        27\n",
      "          P-CROSSINGS_2       0.00      0.00      0.00         1\n",
      "            P-ELEVATION       0.00      0.00      0.00         3\n",
      "              P-OFFSETS       0.00      0.00      0.00         1\n",
      "           P-PDRILLPATH       0.00      0.00      0.00         2\n",
      "          P-TEMP-BLOCKS       0.87      0.42      0.57        31\n",
      "            P-TEMP-BLUE       0.00      0.00      0.00         1\n",
      "               P-TEMP-T       1.00      0.33      0.50         6\n",
      "                  P-TXT       0.87      0.62      0.72        21\n",
      "                 T-BUSH       0.00      0.00      0.00         2\n",
      "               T-BUSH-T       0.97      1.00      0.98        31\n",
      "         T-EXISTING RTF       1.00      0.50      0.67         2\n",
      "              T-GENERAL       0.00      0.00      0.00         1\n",
      "                 T-TEXT       0.85      0.74      0.79        38\n",
      "                T-TIE-T       0.00      0.00      0.00         1\n",
      "                T-WATER       0.00      0.00      0.00         1\n",
      "              T-WATER-T       0.94      0.83      0.88        18\n",
      "                WETLAND       0.00      0.00      0.00         1\n",
      "              WETLAND-T       1.00      0.87      0.93        15\n",
      "                    uwi       0.00      0.00      0.00         4\n",
      "\n",
      "               accuracy                           0.77      2032\n",
      "              macro avg       0.56      0.48      0.48      2032\n",
      "           weighted avg       0.78      0.77      0.75      2032\n",
      "\n"
     ]
    },
    {
     "name": "stderr",
     "output_type": "stream",
     "text": [
      "C:\\Users\\Jesse 2025\\AppData\\Local\\Programs\\Python\\Python313\\Lib\\site-packages\\sklearn\\metrics\\_classification.py:1731: UndefinedMetricWarning: Precision is ill-defined and being set to 0.0 in labels with no predicted samples. Use `zero_division` parameter to control this behavior.\n",
      "  _warn_prf(average, modifier, f\"{metric.capitalize()} is\", result.shape[0])\n",
      "C:\\Users\\Jesse 2025\\AppData\\Local\\Programs\\Python\\Python313\\Lib\\site-packages\\sklearn\\metrics\\_classification.py:1731: UndefinedMetricWarning: Precision is ill-defined and being set to 0.0 in labels with no predicted samples. Use `zero_division` parameter to control this behavior.\n",
      "  _warn_prf(average, modifier, f\"{metric.capitalize()} is\", result.shape[0])\n",
      "C:\\Users\\Jesse 2025\\AppData\\Local\\Programs\\Python\\Python313\\Lib\\site-packages\\sklearn\\metrics\\_classification.py:1731: UndefinedMetricWarning: Precision is ill-defined and being set to 0.0 in labels with no predicted samples. Use `zero_division` parameter to control this behavior.\n",
      "  _warn_prf(average, modifier, f\"{metric.capitalize()} is\", result.shape[0])\n"
     ]
    }
   ],
   "source": [
    "# Example preprocessing: use simple heuristics for demo\n",
    "# Here we will treat 'TextString' as the only feature and the target is 'Layer'\n",
    "from sklearn.model_selection import train_test_split\n",
    "from sklearn.feature_extraction.text import TfidfVectorizer\n",
    "from sklearn.pipeline import Pipeline\n",
    "from sklearn.linear_model import LogisticRegression\n",
    "from sklearn.metrics import classification_report\n",
    "\n",
    "X = features['Content']\n",
    "y = features['Layer']\n",
    "\n",
    "model = Pipeline([\n",
    "    ('tfidf', TfidfVectorizer()),\n",
    "    ('clf', LogisticRegression(max_iter=1000))\n",
    "])\n",
    "\n",
    "X_train, X_test, y_train, y_test = train_test_split(X, y, test_size=0.2, random_state=42)\n",
    "model.fit(X_train, y_train)\n",
    "preds = model.predict(X_test)\n",
    "print(classification_report(y_test, preds))\n"
   ]
  },
  {
   "cell_type": "code",
   "execution_count": 5,
   "id": "ab4ad59c",
   "metadata": {},
   "outputs": [
    {
     "name": "stdout",
     "output_type": "stream",
     "text": [
      "Model saved to ml/artifacts/layer_clf.pkl\n"
     ]
    }
   ],
   "source": [
    "# Save the trained model\n",
    "import joblib\n",
    "import os\n",
    "os.makedirs('ml/artifacts', exist_ok=True)\n",
    "joblib.dump(model, 'ml/artifacts/layer_clf.pkl')\n",
    "print('Model saved to ml/artifacts/layer_clf.pkl')\n"
   ]
  },
  {
   "cell_type": "code",
   "execution_count": 6,
   "id": "9f4e101e",
   "metadata": {},
   "outputs": [
    {
     "name": "stdout",
     "output_type": "stream",
     "text": [
      "Layer\n",
      "L-MON              2074\n",
      "L-BD                670\n",
      "ABADATA-DRILL-T     587\n",
      "L-SECTION-LSD       574\n",
      "F-RW-T              493\n",
      "                   ... \n",
      "T-TIE                 1\n",
      "M-DESIGN              1\n",
      "L-AREAWORK            1\n",
      "P-FNC BUFFER-T        1\n",
      "C-EZE-T               1\n",
      "Name: count, Length: 109, dtype: int64\n"
     ]
    }
   ],
   "source": [
    "print(features[\"Layer\"].value_counts())\n"
   ]
  },
  {
   "cell_type": "code",
   "execution_count": null,
   "id": "555c5d86-29ec-48b0-8bcc-1c616e2452b2",
   "metadata": {},
   "outputs": [],
   "source": []
  }
 ],
 "metadata": {
  "kernelspec": {
   "display_name": "Python 3 (ipykernel)",
   "language": "python",
   "name": "python3"
  },
  "language_info": {
   "codemirror_mode": {
    "name": "ipython",
    "version": 3
   },
   "file_extension": ".py",
   "mimetype": "text/x-python",
   "name": "python",
   "nbconvert_exporter": "python",
   "pygments_lexer": "ipython3",
   "version": "3.13.3"
  }
 },
 "nbformat": 4,
 "nbformat_minor": 5
}
