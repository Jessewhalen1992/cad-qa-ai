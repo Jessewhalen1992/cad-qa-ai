{
 "cells": [
  {
   "cell_type": "code",
   "execution_count": 20,
   "id": "5a7d1519",
   "metadata": {},
   "outputs": [],
   "source": [
    "import os\n",
    "os.chdir(\"C:/Users/Work Test 2/Desktop/AI QA CAD\")"
   ]
  },
  {
   "cell_type": "code",
   "execution_count": 21,
   "id": "cb4d6e06",
   "metadata": {},
   "outputs": [
    {
     "name": "stdout",
     "output_type": "stream",
     "text": [
      "['ml/data/raw\\\\01262-24-PAD-R0P4.features.csv', 'ml/data/raw\\\\sample1.features.csv', 'ml/data/raw\\\\sample2.features.csv', 'ml/data/raw\\\\sample3.features.csv']\n"
     ]
    }
   ],
   "source": [
    "import glob\n",
    "print(glob.glob(\"ml/data/raw/*.features.csv\"))\n"
   ]
  },
  {
   "cell_type": "markdown",
   "metadata": {},
   "source": [
    "# Layer Classification Model\n",
    "This notebook loads feature CSVs generated from CAD drawings, trains a simple classifier to predict the appropriate layer for text entities based on their properties, and saves the trained model."
   ]
  },
  {
   "cell_type": "code",
   "execution_count": 22,
   "metadata": {},
   "outputs": [
    {
     "data": {
      "text/html": [
       "<div>\n",
       "<style scoped>\n",
       "    .dataframe tbody tr th:only-of-type {\n",
       "        vertical-align: middle;\n",
       "    }\n",
       "\n",
       "    .dataframe tbody tr th {\n",
       "        vertical-align: top;\n",
       "    }\n",
       "\n",
       "    .dataframe thead th {\n",
       "        text-align: right;\n",
       "    }\n",
       "</style>\n",
       "<table border=\"1\" class=\"dataframe\">\n",
       "  <thead>\n",
       "    <tr style=\"text-align: right;\">\n",
       "      <th></th>\n",
       "      <th>Handle</th>\n",
       "      <th>ObjType</th>\n",
       "      <th>TextString</th>\n",
       "      <th>Layer</th>\n",
       "      <th>TextHeight</th>\n",
       "      <th>source_file</th>\n",
       "    </tr>\n",
       "  </thead>\n",
       "  <tbody>\n",
       "    <tr>\n",
       "      <th>0</th>\n",
       "      <td>BC3DDF</td>\n",
       "      <td>DBText</td>\n",
       "      <td>1</td>\n",
       "      <td>Z-POINTNUMBER</td>\n",
       "      <td>1.5</td>\n",
       "      <td>01262-24-PAD-R0P4.features.csv</td>\n",
       "    </tr>\n",
       "    <tr>\n",
       "      <th>1</th>\n",
       "      <td>BC3DE0</td>\n",
       "      <td>DBText</td>\n",
       "      <td>PLSPK</td>\n",
       "      <td>Z-DESCRIPTION</td>\n",
       "      <td>1.5</td>\n",
       "      <td>01262-24-PAD-R0P4.features.csv</td>\n",
       "    </tr>\n",
       "    <tr>\n",
       "      <th>2</th>\n",
       "      <td>BC3DE1</td>\n",
       "      <td>DBText</td>\n",
       "      <td>932.772</td>\n",
       "      <td>Z-ELEVATION</td>\n",
       "      <td>1.5</td>\n",
       "      <td>01262-24-PAD-R0P4.features.csv</td>\n",
       "    </tr>\n",
       "    <tr>\n",
       "      <th>3</th>\n",
       "      <td>BC3DE4</td>\n",
       "      <td>DBText</td>\n",
       "      <td>2</td>\n",
       "      <td>Z-POINTNUMBER</td>\n",
       "      <td>1.5</td>\n",
       "      <td>01262-24-PAD-R0P4.features.csv</td>\n",
       "    </tr>\n",
       "    <tr>\n",
       "      <th>4</th>\n",
       "      <td>BC3DE5</td>\n",
       "      <td>DBText</td>\n",
       "      <td>FDI_MP</td>\n",
       "      <td>Z-DESCRIPTION</td>\n",
       "      <td>1.5</td>\n",
       "      <td>01262-24-PAD-R0P4.features.csv</td>\n",
       "    </tr>\n",
       "  </tbody>\n",
       "</table>\n",
       "</div>"
      ],
      "text/plain": [
       "   Handle ObjType TextString          Layer  TextHeight  \\\n",
       "0  BC3DDF  DBText          1  Z-POINTNUMBER         1.5   \n",
       "1  BC3DE0  DBText      PLSPK  Z-DESCRIPTION         1.5   \n",
       "2  BC3DE1  DBText    932.772    Z-ELEVATION         1.5   \n",
       "3  BC3DE4  DBText          2  Z-POINTNUMBER         1.5   \n",
       "4  BC3DE5  DBText     FDI_MP  Z-DESCRIPTION         1.5   \n",
       "\n",
       "                      source_file  \n",
       "0  01262-24-PAD-R0P4.features.csv  \n",
       "1  01262-24-PAD-R0P4.features.csv  \n",
       "2  01262-24-PAD-R0P4.features.csv  \n",
       "3  01262-24-PAD-R0P4.features.csv  \n",
       "4  01262-24-PAD-R0P4.features.csv  "
      ]
     },
     "execution_count": 22,
     "metadata": {},
     "output_type": "execute_result"
    }
   ],
   "source": [
    "import glob\n",
    "import pandas as pd\n",
    "from pathlib import Path\n",
    "# Load all feature CSVs from data/raw\n",
    "data_dir = Path('ml/data/raw')\n",
    "csv_files = list(data_dir.glob('*.features.csv'))\n",
    "frames = []\n",
    "for f in csv_files:\n",
    "    df = pd.read_csv(f)\n",
    "    df['source_file'] = f.name\n",
    "    frames.append(df)\n",
    "features = pd.concat(frames, ignore_index=True)\n",
    "features = features.dropna(subset=[\"TextString\", \"Layer\"])\n",
    "features.head()"
   ]
  },
  {
   "cell_type": "code",
   "execution_count": 23,
   "metadata": {},
   "outputs": [
    {
     "name": "stdout",
     "output_type": "stream",
     "text": [
      "                precision    recall  f1-score   support\n",
      "\n",
      "             0       0.00      0.00      0.00         4\n",
      "    AS-DRILL-T       0.95      1.00      0.97        18\n",
      "    AUX-BUFFER       0.00      0.00      0.00         1\n",
      "      CG-NOTES       0.00      0.00      0.00         1\n",
      "         D-TXT       1.00      1.00      1.00         3\n",
      "      DETAIL-T       0.00      0.00      0.00         2\n",
      "     Defpoints       0.00      0.00      0.00         2\n",
      "        L-ANNO       0.00      0.00      0.00         1\n",
      "          L-BD       0.00      0.00      0.00         5\n",
      "         L-BD1       0.00      0.00      0.00         4\n",
      " L-SECTION-LSD       0.00      0.00      0.00         1\n",
      "        L-SYMB       0.00      0.00      0.00         1\n",
      "        L-UTIL       0.00      0.00      0.00         1\n",
      "    P-BUFFER-T       0.00      0.00      0.00         1\n",
      "P-DRILL-OFFSET       1.00      0.67      0.80         6\n",
      "       RoadSeg       0.62      1.00      0.77        93\n",
      "      T-BUSH-T       0.00      0.00      0.00         1\n",
      "        T-TEXT       1.00      1.00      1.00         1\n",
      "     T-WATER-T       1.00      1.00      1.00         1\n",
      "     WETLAND-T       0.00      0.00      0.00         1\n",
      " Z-DESCRIPTION       0.98      1.00      0.99        44\n",
      " Z-DRILL-POINT       0.00      0.00      0.00         5\n",
      "   Z-ELEVATION       1.00      1.00      1.00        43\n",
      " Z-POINTNUMBER       1.00      0.43      0.61        46\n",
      "\n",
      "      accuracy                           0.79       286\n",
      "     macro avg       0.36      0.34      0.34       286\n",
      "  weighted avg       0.76      0.79      0.74       286\n",
      "\n"
     ]
    },
    {
     "name": "stderr",
     "output_type": "stream",
     "text": [
      "c:\\Users\\Jesse Work\\AppData\\Local\\Programs\\Python\\Python313\\Lib\\site-packages\\sklearn\\metrics\\_classification.py:1731: UndefinedMetricWarning: Precision is ill-defined and being set to 0.0 in labels with no predicted samples. Use `zero_division` parameter to control this behavior.\n",
      "  _warn_prf(average, modifier, f\"{metric.capitalize()} is\", result.shape[0])\n",
      "c:\\Users\\Jesse Work\\AppData\\Local\\Programs\\Python\\Python313\\Lib\\site-packages\\sklearn\\metrics\\_classification.py:1731: UndefinedMetricWarning: Precision is ill-defined and being set to 0.0 in labels with no predicted samples. Use `zero_division` parameter to control this behavior.\n",
      "  _warn_prf(average, modifier, f\"{metric.capitalize()} is\", result.shape[0])\n",
      "c:\\Users\\Jesse Work\\AppData\\Local\\Programs\\Python\\Python313\\Lib\\site-packages\\sklearn\\metrics\\_classification.py:1731: UndefinedMetricWarning: Precision is ill-defined and being set to 0.0 in labels with no predicted samples. Use `zero_division` parameter to control this behavior.\n",
      "  _warn_prf(average, modifier, f\"{metric.capitalize()} is\", result.shape[0])\n"
     ]
    }
   ],
   "source": [
    "# Example preprocessing: use simple heuristics for demo\n",
    "# Here we will treat 'TextString' as the only feature and the target is 'Layer'\n",
    "from sklearn.model_selection import train_test_split\n",
    "from sklearn.feature_extraction.text import TfidfVectorizer\n",
    "from sklearn.pipeline import Pipeline\n",
    "from sklearn.linear_model import LogisticRegression\n",
    "from sklearn.metrics import classification_report\n",
    "\n",
    "X = features['TextString']\n",
    "y = features['Layer']\n",
    "\n",
    "model = Pipeline([\n",
    "    ('tfidf', TfidfVectorizer()),\n",
    "    ('clf', LogisticRegression(max_iter=1000))\n",
    "])\n",
    "\n",
    "X_train, X_test, y_train, y_test = train_test_split(X, y, test_size=0.2, random_state=42)\n",
    "model.fit(X_train, y_train)\n",
    "preds = model.predict(X_test)\n",
    "print(classification_report(y_test, preds))\n"
   ]
  },
  {
   "cell_type": "code",
   "execution_count": 24,
   "metadata": {},
   "outputs": [
    {
     "name": "stdout",
     "output_type": "stream",
     "text": [
      "Model saved to ml/artifacts/layer_clf.pkl\n"
     ]
    }
   ],
   "source": [
    "# Save the trained model\n",
    "import joblib\n",
    "import os\n",
    "os.makedirs('ml/artifacts', exist_ok=True)\n",
    "joblib.dump(model, 'ml/artifacts/layer_clf.pkl')\n",
    "print('Model saved to ml/artifacts/layer_clf.pkl')\n"
   ]
  },
  {
   "cell_type": "code",
   "execution_count": null,
   "id": "9f4e101e",
   "metadata": {},
   "outputs": [],
   "source": []
  },
  {
   "cell_type": "code",
   "execution_count": null,
   "id": "9afd3891",
   "metadata": {},
   "outputs": [],
   "source": []
  }
 ],
 "metadata": {
  "kernelspec": {
   "display_name": "Python 3",
   "language": "python",
   "name": "python3"
  },
  "language_info": {
   "codemirror_mode": {
    "name": "ipython",
    "version": 3
   },
   "file_extension": ".py",
   "mimetype": "text/x-python",
   "name": "python",
   "nbconvert_exporter": "python",
   "pygments_lexer": "ipython3",
   "version": "3.13.0"
  }
 },
 "nbformat": 4,
 "nbformat_minor": 5
}
