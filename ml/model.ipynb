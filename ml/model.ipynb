{
 "cells": [
  {
   "cell_type": "code",
   "execution_count": 22,
   "id": "5a7d1519",
   "metadata": {},
   "outputs": [],
   "source": [
    "import os\n",
    "os.chdir(\"C:/Users/Work Test 2/Desktop/AI QA CAD\")"
   ]
  },
  {
   "cell_type": "code",
   "execution_count": 23,
   "id": "cb4d6e06",
   "metadata": {},
   "outputs": [
    {
     "name": "stdout",
     "output_type": "stream",
     "text": [
      "['ml/data/raw\\\\01262-24-PAD-R0P4.features.csv', 'ml/data/raw\\\\As-Built S.W.16-64-21-5_Rev0.features.csv', 'ml/data/raw\\\\FC667 Pad Site 14-33-60-19-5_Rev3.features.csv', 'ml/data/raw\\\\FC814 Pad Site 3-5-63-17-5_Rev1.features.csv', 'ml/data/raw\\\\Notification Plan 1-12-64-24-5_Rev2.features.csv', 'ml/data/raw\\\\PAD 2-28-64-3-6 Rev4.features.csv', 'ml/data/raw\\\\PAD 3-7-65-8-6_Rev3.features.csv', 'ml/data/raw\\\\Pad Site 1-28-61-20-5_Rev1 Prelim3.features.csv', 'ml/data/raw\\\\Pad Site 1-28-61-20-5_Rev1.features.csv', 'ml/data/raw\\\\Pad Site 10-12-66-6-6_Rev0 Prelim5.features.csv', 'ml/data/raw\\\\PAD SITE 10-27-64-3-6_Rev8.features.csv', 'ml/data/raw\\\\Pad Site 3-29-64-2-6_Rev0.features.csv', 'ml/data/raw\\\\Pad Site 6-1-66-4-6_Rev1.features.csv', 'ml/data/raw\\\\Pad Site 6-10-81-13-5_Rev5.features.csv', 'ml/data/raw\\\\Pad Site 8-1-44-7-5 Rev0.features.csv', 'ml/data/raw\\\\Pad Site 9-20-66-3-6_Rev1.features.csv', 'ml/data/raw\\\\PLA 9-35-65-3-6 -to 10-19-65-2-6_Rev0.features.csv', 'ml/data/raw\\\\PLA KRN 16-35-65-3-6 to 16-25-65-3-6_Rev2.features.csv', 'ml/data/raw\\\\Remote Sump 15-5-66-3-6_Rev0.features.csv', 'ml/data/raw\\\\Riser Site 11-8-57-18-5_Rev0.features.csv', 'ml/data/raw\\\\Riser Site 11-8-57-18-5_Rev1.features.csv', 'ml/data/raw\\\\S22830 FC658 Pad Site 3-5-62-19-5_Rev6.features.csv', 'ml/data/raw\\\\SML2 7-52-6-5 to 32-51-6-5_Rev3 Final.features.csv']\n"
     ]
    }
   ],
   "source": [
    "import glob\n",
    "print(glob.glob(\"ml/data/raw/*.features.csv\"))\n"
   ]
  },
  {
   "cell_type": "markdown",
   "metadata": {},
   "source": [
    "# Layer Classification Model\n",
    "This notebook loads feature CSVs generated from CAD drawings, trains a simple classifier to predict the appropriate layer for text entities based on their properties, and saves the trained model."
   ]
  },
  {
   "cell_type": "code",
   "execution_count": 24,
   "metadata": {},
   "outputs": [
    {
     "name": "stdout",
     "output_type": "stream",
     "text": [
      "📄 files: 23\n",
      "🟢 rows used: 7861\n"
     ]
    }
   ],
   "source": [
    "from pathlib import Path\n",
    "import pandas as pd\n",
    "\n",
    "data_dir   = Path(\"ml/data/raw\")\n",
    "csv_files  = list(data_dir.glob(\"*.features.csv\"))\n",
    "print(\"📄 files:\", len(csv_files))\n",
    "\n",
    "frames = []\n",
    "for f in csv_files:\n",
    "    df = pd.read_csv(f, on_bad_lines=\"skip\")\n",
    "    df[\"source_file\"] = f.name      # 🟢 <-- KEEP THIS LINE!\n",
    "    frames.append(df)\n",
    "\n",
    "# merge once, not twice\n",
    "features = pd.concat(frames, ignore_index=True)\n",
    "features = features.dropna(subset=[\"TextString\", \"Layer\"])\n",
    "print(\"🟢 rows used:\", len(features))\n"
   ]
  },
  {
   "cell_type": "code",
   "execution_count": 25,
   "metadata": {},
   "outputs": [
    {
     "name": "stdout",
     "output_type": "stream",
     "text": [
      "                     precision    recall  f1-score   support\n",
      "\n",
      "                  0       0.77      0.78      0.77        68\n",
      "                 35       1.00      1.00      1.00         3\n",
      "    ABADATA-DRILL-T       0.91      0.96      0.94        76\n",
      "         AS-DRILL-T       0.94      0.98      0.96        49\n",
      "           AS-FENCE       0.00      0.00      0.00         2\n",
      "         AS-GENERAL       0.75      0.43      0.55         7\n",
      "         AS-PIPE-UG       0.00      0.00      0.00         2\n",
      "       AS-PIPE-UG-T       1.00      1.00      1.00         2\n",
      "         AS-POWER-T       0.00      0.00      0.00         1\n",
      "       AS-RESIDENCE       0.00      0.00      0.00         3\n",
      "      AS-TARGET-GAS       1.00      1.00      1.00        30\n",
      "      AS-TARGET-OIL       1.00      1.00      1.00         5\n",
      "AS-TRAPPER BOUNDARY       0.00      0.00      0.00         2\n",
      "        AS-WILDLIFE       1.00      0.67      0.80         3\n",
      "         AUX-BUFFER       0.88      1.00      0.93         7\n",
      "             C-AR-T       1.00      0.60      0.75         5\n",
      "           C-SYMBOL       1.00      0.67      0.80        24\n",
      "             C-WS-S       0.00      0.00      0.00         1\n",
      "             C-WS-T       0.00      0.00      0.00         2\n",
      "           CG-NOTES       0.00      0.00      0.00         1\n",
      "              D-TXT       0.98      1.00      0.99        45\n",
      " DETAIL-HZ-Existing       0.90      1.00      0.95        18\n",
      "           DETAIL-T       1.00      0.83      0.91        29\n",
      "            DRILL-T       0.57      0.73      0.64        11\n",
      "             F-AR-T       0.00      0.00      0.00         2\n",
      "             F-RW-T       0.00      0.00      0.00         1\n",
      "             F-WS-S       1.00      0.33      0.50         9\n",
      "             F-WS-T       0.67      0.71      0.69        14\n",
      "      FEATURE_LABEL       0.77      0.83      0.80        12\n",
      "     L-AREAREQUIRED       1.00      1.00      1.00         3\n",
      "               L-BD       0.46      0.82      0.59       250\n",
      "              L-BD1       0.65      0.28      0.39       112\n",
      "         L-DETAIL-T       0.83      0.62      0.71         8\n",
      "              L-MON       0.93      1.00      0.97        28\n",
      "            L-MON-T       1.00      0.60      0.75         5\n",
      "             L-QSEC       0.00      0.00      0.00         1\n",
      "           L-ROAD-T       1.00      0.95      0.98        22\n",
      "             L-SECQ       0.00      0.00      0.00         1\n",
      "      L-SECTION-LSD       0.89      0.81      0.85       103\n",
      "            L-TIE-T       0.00      0.00      0.00         3\n",
      "        L-TITLEDB-T       1.00      0.80      0.89         5\n",
      "            L-UNS-T       0.72      1.00      0.84        29\n",
      "  P-BUFFER-PURPLE-T       0.92      0.61      0.73        18\n",
      "         P-BUFFER-T       0.80      0.80      0.80         5\n",
      "       P-CHAINAGE-T       0.00      0.00      0.00        10\n",
      "          P-D56-EPZ       0.00      0.00      0.00         1\n",
      "     P-DRILL-OFFSET       0.89      1.00      0.94         8\n",
      "       P-PDRILLPATH       0.00      0.00      0.00         1\n",
      "        P-TEMP-BLUE       0.00      0.00      0.00         3\n",
      "           P-TEMP-T       0.60      0.60      0.60         5\n",
      "   P-TEMP_WORKSPACE       0.00      0.00      0.00         1\n",
      "              P-TXT       0.00      0.00      0.00         3\n",
      "        POINTNUMBER       0.00      0.00      0.00         1\n",
      "            RoadSeg       0.58      0.52      0.55        82\n",
      "                S-7       0.00      0.00      0.00         1\n",
      "               S-T7       0.83      0.84      0.84        90\n",
      "             T-BUSH       1.00      0.67      0.80         3\n",
      "           T-BUSH-T       0.95      1.00      0.98        21\n",
      "   T-EXISTING RTF-T       0.00      0.00      0.00         2\n",
      "             T-TEXT       0.61      0.96      0.75        28\n",
      "            T-TIE-T       0.99      0.77      0.86        99\n",
      "          T-WATER-T       1.00      1.00      1.00        11\n",
      "            WETLAND       0.00      0.00      0.00         1\n",
      "          WETLAND-T       0.86      0.75      0.80         8\n",
      "      Z-DESCRIPTION       1.00      0.81      0.89        52\n",
      "      Z-DRILL-POINT       0.00      0.00      0.00         8\n",
      "        Z-ELEVATION       0.98      0.94      0.96        52\n",
      "      Z-POINTNUMBER       1.00      0.39      0.56        49\n",
      "           licensee       1.00      0.25      0.40         4\n",
      "                uwi       0.00      0.00      0.00         2\n",
      "\n",
      "           accuracy                           0.75      1573\n",
      "          macro avg       0.57      0.50      0.52      1573\n",
      "       weighted avg       0.77      0.75      0.73      1573\n",
      "\n"
     ]
    },
    {
     "name": "stderr",
     "output_type": "stream",
     "text": [
      "c:\\Users\\Work Test 2\\AppData\\Local\\Programs\\Python\\Python310\\lib\\site-packages\\sklearn\\metrics\\_classification.py:1731: UndefinedMetricWarning: Precision is ill-defined and being set to 0.0 in labels with no predicted samples. Use `zero_division` parameter to control this behavior.\n",
      "  _warn_prf(average, modifier, f\"{metric.capitalize()} is\", result.shape[0])\n",
      "c:\\Users\\Work Test 2\\AppData\\Local\\Programs\\Python\\Python310\\lib\\site-packages\\sklearn\\metrics\\_classification.py:1731: UndefinedMetricWarning: Precision is ill-defined and being set to 0.0 in labels with no predicted samples. Use `zero_division` parameter to control this behavior.\n",
      "  _warn_prf(average, modifier, f\"{metric.capitalize()} is\", result.shape[0])\n",
      "c:\\Users\\Work Test 2\\AppData\\Local\\Programs\\Python\\Python310\\lib\\site-packages\\sklearn\\metrics\\_classification.py:1731: UndefinedMetricWarning: Precision is ill-defined and being set to 0.0 in labels with no predicted samples. Use `zero_division` parameter to control this behavior.\n",
      "  _warn_prf(average, modifier, f\"{metric.capitalize()} is\", result.shape[0])\n"
     ]
    }
   ],
   "source": [
    "# Example preprocessing: use simple heuristics for demo\n",
    "# Here we will treat 'TextString' as the only feature and the target is 'Layer'\n",
    "from sklearn.model_selection import train_test_split\n",
    "from sklearn.feature_extraction.text import TfidfVectorizer\n",
    "from sklearn.pipeline import Pipeline\n",
    "from sklearn.linear_model import LogisticRegression\n",
    "from sklearn.metrics import classification_report\n",
    "\n",
    "X = features['TextString']\n",
    "y = features['Layer']\n",
    "\n",
    "model = Pipeline([\n",
    "    ('tfidf', TfidfVectorizer()),\n",
    "    ('clf', LogisticRegression(max_iter=1000))\n",
    "])\n",
    "\n",
    "X_train, X_test, y_train, y_test = train_test_split(X, y, test_size=0.2, random_state=42)\n",
    "model.fit(X_train, y_train)\n",
    "preds = model.predict(X_test)\n",
    "print(classification_report(y_test, preds))\n"
   ]
  },
  {
   "cell_type": "code",
   "execution_count": 26,
   "metadata": {},
   "outputs": [
    {
     "name": "stdout",
     "output_type": "stream",
     "text": [
      "Model saved to ml/artifacts/layer_clf.pkl\n"
     ]
    }
   ],
   "source": [
    "# Save the trained model\n",
    "import joblib\n",
    "import os\n",
    "os.makedirs('ml/artifacts', exist_ok=True)\n",
    "joblib.dump(model, 'ml/artifacts/layer_clf.pkl')\n",
    "print('Model saved to ml/artifacts/layer_clf.pkl')\n"
   ]
  },
  {
   "cell_type": "code",
   "execution_count": 27,
   "id": "9f4e101e",
   "metadata": {},
   "outputs": [
    {
     "data": {
      "text/plain": [
       "Layer\n",
       "L-BD              1091\n",
       "L-SECTION-LSD      538\n",
       "L-BD1              482\n",
       "T-TIE-T            472\n",
       "RoadSeg            444\n",
       "                  ... \n",
       "T-WATER              1\n",
       "L-AREAWORK           1\n",
       "_.undo               1\n",
       "P-FNC BUFFER-T       1\n",
       "C-FLOWLINE-T         1\n",
       "Name: count, Length: 93, dtype: int64"
      ]
     },
     "execution_count": 27,
     "metadata": {},
     "output_type": "execute_result"
    }
   ],
   "source": [
    "features[\"Layer\"].value_counts()\n"
   ]
  },
  {
   "cell_type": "code",
   "execution_count": 28,
   "id": "9afd3891",
   "metadata": {},
   "outputs": [
    {
     "name": "stdout",
     "output_type": "stream",
     "text": [
      "Rows BEFORE dropna: 7989\n",
      "Rows AFTER  dropna: 7861\n",
      "Rows DROPPED      : 128\n",
      "Missing Layer      : 0\n",
      "Missing TextString : 0\n",
      "\n",
      "Rows kept per file (top 10):\n",
      "source_file\n",
      "01262-24-PAD-R0P4.features.csv                            1418\n",
      "PLA KRN 16-35-65-3-6 to 16-25-65-3-6_Rev2.features.csv     826\n",
      "SML2 7-52-6-5 to 32-51-6-5_Rev3 Final.features.csv         786\n",
      "FC814 Pad Site 3-5-63-17-5_Rev1.features.csv               620\n",
      "Pad Site 6-1-66-4-6_Rev1.features.csv                      512\n",
      "PAD SITE 10-27-64-3-6_Rev8.features.csv                    499\n",
      "As-Built S.W.16-64-21-5_Rev0.features.csv                  428\n",
      "S22830 FC658 Pad Site 3-5-62-19-5_Rev6.features.csv        330\n",
      "FC667 Pad Site 14-33-60-19-5_Rev3.features.csv             329\n",
      "Pad Site 6-10-81-13-5_Rev5.features.csv                    311\n",
      "dtype: int64\n",
      "Total files used: 23\n",
      "Total rows kept : 7861\n"
     ]
    }
   ],
   "source": [
    "# --- Quick sanity‑checks ----------------------------------------------\n",
    "# 1) How many rows did we import (before dropna)?\n",
    "rows_before = sum(\n",
    "    (sum(1 for _ in open(f, encoding=\"utf‑8\")) - 1)   # lines per file minus header\n",
    "    for f in csv_files\n",
    ")\n",
    "print(\"Rows BEFORE dropna:\", rows_before)\n",
    "\n",
    "# 2) How many rows remained?\n",
    "print(\"Rows AFTER  dropna:\", features.shape[0])\n",
    "print(\"Rows DROPPED      :\", rows_before - features.shape[0])\n",
    "\n",
    "# 3) Missing fields count\n",
    "print(\"Missing Layer      :\", features[\"Layer\"].isna().sum())\n",
    "print(\"Missing TextString :\", features[\"TextString\"].isna().sum())\n",
    "\n",
    "# 4) Rows kept per file (top 10)\n",
    "if \"source_file\" in features.columns:\n",
    "    rows_per_file = (\n",
    "        features.groupby(\"source_file\")\n",
    "                .size()\n",
    "                .sort_values(ascending=False)\n",
    "    )\n",
    "    print(\"\\nRows kept per file (top 10):\")\n",
    "    print(rows_per_file.head(10))\n",
    "    print(\"Total files used:\", rows_per_file.shape[0])\n",
    "    print(\"Total rows kept :\", rows_per_file.sum())\n",
    "else:\n",
    "    print(\"\\n⚠️  'source_file' column missing – re‑run the import cell above.\")\n"
   ]
  }
 ],
 "metadata": {
  "kernelspec": {
   "display_name": "Python 3",
   "language": "python",
   "name": "python3"
  },
  "language_info": {
   "codemirror_mode": {
    "name": "ipython",
    "version": 3
   },
   "file_extension": ".py",
   "mimetype": "text/x-python",
   "name": "python",
   "nbconvert_exporter": "python",
   "pygments_lexer": "ipython3",
   "version": "3.10.11"
  }
 },
 "nbformat": 4,
 "nbformat_minor": 5
}
