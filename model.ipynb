{
 "cells": [
  {
   "cell_type": "markdown",
   "metadata": {},
   "source": [
    "# Layer Classifier Training\n",
    "\n",
    "Run this notebook from the project root (`CAD AI`) to build a fitted `layer_clf.pkl`.\n"
   ]
  },
  {
   "cell_type": "code",
   "execution_count": null,
   "metadata": {},
   "outputs": [],
   "source": [
    "import pathlib, joblib, pandas as pd\n",
    "from sklearn.feature_extraction.text import TfidfVectorizer\n",
    "from sklearn.svm import LinearSVC\n",
    "from sklearn.calibration import CalibratedClassifierCV\n",
    "from sklearn.pipeline import Pipeline\n",
    "from sklearn.model_selection import train_test_split\n",
    "from sklearn.metrics import classification_report\n",
    "\n",
    "root = pathlib.Path().resolve()\n",
    "df = pd.read_csv(root / 'ml' / 'datasets' / 'labeled.csv', on_bad_lines='skip').dropna(subset=['Content', 'Layer'])\n",
    "\n",
    "pipe = Pipeline([\n",
    "    ('tfidf', TfidfVectorizer(token_pattern=r'[A-Za-z0-9\\.]+')),\n",
    "    ('clf',   CalibratedClassifierCV(LinearSVC(C=10.0), cv=5))\n",
    "])"
   ]
  },
  {
   "cell_type": "code",
   "execution_count": null,
   "metadata": {},
   "outputs": [],
   "source": [
    "# Train / test split and fit\n",
    "X_train, X_test, y_train, y_test = train_test_split(\n",
    "    df['Content'], df['Layer'], test_size=0.2, random_state=42\n",
    ")\n",
    "\n",
    "pipe.fit(X_train, y_train)\n",
    "print(classification_report(y_test, pipe.predict(X_test)))"
   ]
  },
  {
   "cell_type": "code",
   "execution_count": null,
   "metadata": {},
   "outputs": [],
   "source": [
    "# Guard to ensure we are saving a fitted model\n",
    "assert hasattr(pipe.named_steps['tfidf'], 'vocabulary_'), 'Vectorizer not fitted!'\n",
    "\n",
    "out = root / 'ml' / 'artifacts'\n",
    "out.mkdir(parents=True, exist_ok=True)\n",
    "joblib.dump(pipe, out / 'layer_clf.pkl')\n",
    "print('\u2713 Model saved to', out / 'layer_clf.pkl')"
   ]
  }
 ],
 "metadata": {
  "kernelspec": {
   "display_name": "Python 3",
   "language": "python",
   "name": "python3"
  },
  "language_info": {
   "name": "python",
   "version": "3.10"
  }
 },
 "nbformat": 4,
 "nbformat_minor": 5
}